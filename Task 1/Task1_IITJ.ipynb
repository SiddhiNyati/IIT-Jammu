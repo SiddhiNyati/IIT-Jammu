{
  "nbformat": 4,
  "nbformat_minor": 0,
  "metadata": {
    "colab": {
      "provenance": []
    },
    "kernelspec": {
      "name": "python3",
      "display_name": "Python 3"
    },
    "language_info": {
      "name": "python"
    }
  },
  "cells": [
    {
      "cell_type": "markdown",
      "source": [
        "**Depth-first search (DFS) Traversal**"
      ],
      "metadata": {
        "id": "vZ90pVTo_R4F"
      }
    },
    {
      "cell_type": "code",
      "execution_count": 1,
      "metadata": {
        "colab": {
          "base_uri": "https://localhost:8080/"
        },
        "id": "Arhvp7om_Ndy",
        "outputId": "134ad54c-e898-4de2-b804-4455d36a4bf0"
      },
      "outputs": [
        {
          "output_type": "stream",
          "name": "stdout",
          "text": [
            "2 0 1 3 4 5 6 "
          ]
        }
      ],
      "source": [
        "visited = [0, 0, 0, 0, 0, 0, 0]\n",
        "A = [\n",
        "    [0, 1, 1, 1, 0, 0, 0],\n",
        "    [1, 0, 1, 0, 0, 0, 0],\n",
        "    [1, 1, 0, 1, 1, 0, 0],\n",
        "    [1, 0, 1, 0, 1, 0, 0],\n",
        "    [0, 0, 1, 1, 0, 1, 1],\n",
        "    [0, 0, 0, 0, 1, 0, 0],\n",
        "    [0, 0, 0, 0, 1, 0, 0]\n",
        "]\n",
        "\n",
        "def DFS(i):\n",
        "    print(i, end=' ')\n",
        "    visited[i] = 1\n",
        "    for j in range(7):\n",
        "        if A[i][j] == 1 and not visited[j]:\n",
        "            DFS(j)\n",
        "\n",
        "def main():\n",
        "    DFS(2)\n",
        "\n",
        "if __name__ == \"__main__\":\n",
        "    main()\n"
      ]
    },
    {
      "cell_type": "markdown",
      "source": [
        "**Breadth-first search (BFS) traversal**"
      ],
      "metadata": {
        "id": "7Tr76PYy_czy"
      }
    },
    {
      "cell_type": "code",
      "source": [
        "from collections import deque\n",
        "\n",
        "def bfs(adj_list, start_node, visited):\n",
        "    queue = deque()\n",
        "    visited[start_node] = True\n",
        "    queue.append(start_node)\n",
        "\n",
        "    while queue:\n",
        "        current_node = queue.popleft()\n",
        "        print(current_node, end=' ')\n",
        "\n",
        "        for neighbor in adj_list[current_node]:\n",
        "            if not visited[neighbor]:\n",
        "                visited[neighbor] = True\n",
        "                queue.append(neighbor)\n",
        "\n",
        "def add_edge(adj_list, u, v):\n",
        "    adj_list[u].append(v)\n",
        "\n",
        "def main():\n",
        "    vertices = 5\n",
        "    adj_list = [[] for _ in range(vertices)]\n",
        "\n",
        "    add_edge(adj_list, 0, 1)\n",
        "    add_edge(adj_list, 0, 2)\n",
        "    add_edge(adj_list, 1, 3)\n",
        "    add_edge(adj_list, 1, 4)\n",
        "    add_edge(adj_list, 2, 4)\n",
        "\n",
        "    visited = [False] * vertices\n",
        "    print(\"Breadth First Traversal starting from vertex 0:\", end=' ')\n",
        "    bfs(adj_list, 0, visited)\n",
        "\n",
        "if __name__ == \"__main__\":\n",
        "    main()"
      ],
      "metadata": {
        "colab": {
          "base_uri": "https://localhost:8080/"
        },
        "id": "8FdXkhGg_g20",
        "outputId": "9324cfea-d1c7-4125-b15d-410e4ecff8c5"
      },
      "execution_count": 2,
      "outputs": [
        {
          "output_type": "stream",
          "name": "stdout",
          "text": [
            "Breadth First Traversal starting from vertex 0: 0 1 2 3 4 "
          ]
        }
      ]
    },
    {
      "cell_type": "markdown",
      "source": [
        "**Kruskal Algorithm**"
      ],
      "metadata": {
        "id": "7I0hMtdsAD9Y"
      }
    },
    {
      "cell_type": "code",
      "source": [
        "def cmp(edge):\n",
        "    return edge[2]\n",
        "\n",
        "def make_set(parent, rank, n):\n",
        "    for i in range(n):\n",
        "        parent[i] = i\n",
        "        rank[i] = 0\n",
        "\n",
        "def find_parent(parent, node):\n",
        "    if parent[node] == node:\n",
        "        return node\n",
        "    return find_parent(parent, parent[node])\n",
        "\n",
        "def union_set(u, v, parent, rank):\n",
        "    u = find_parent(parent, u)\n",
        "    v = find_parent(parent, v)\n",
        "\n",
        "    if rank[u] < rank[v]:\n",
        "        parent[u] = v\n",
        "    elif rank[u] > rank[v]:\n",
        "        parent[v] = u\n",
        "    else:\n",
        "        parent[u] = v\n",
        "        rank[v] += 1\n",
        "\n",
        "def min_spanning_tree(edges, n):\n",
        "    edges.sort(key=cmp)\n",
        "    parent = [0] * n\n",
        "    rank = [0] * n\n",
        "    make_set(parent, rank, n)\n",
        "    total_weight = 0\n",
        "    mst_edges = []\n",
        "\n",
        "    for edge in edges:\n",
        "        u, v, wt = edge\n",
        "        if find_parent(parent, u) != find_parent(parent, v):\n",
        "            union_set(u, v, parent, rank)\n",
        "            mst_edges.append((u, v))\n",
        "            total_weight += wt\n",
        "\n",
        "    return total_weight, mst_edges\n",
        "\n",
        "def main():\n",
        "    edges = [(0, 1, 4), (0, 2, 3), (1, 3, 2), (1, 2, 1), (2, 3, 4), (3, 4, 2), (4, 5, 6)]\n",
        "    n = 6  # Number of vertices\n",
        "\n",
        "    print(\"Minimum Spanning Tree Edges:\")\n",
        "    total_weight, mst_edges = min_spanning_tree(edges, n)\n",
        "    for edge in mst_edges:\n",
        "        print(\"Edge:\", edge[0], \"-\", edge[1])\n",
        "    print(\"Total Weight:\", total_weight)\n",
        "\n",
        "if __name__ == \"__main__\":\n",
        "    main()"
      ],
      "metadata": {
        "colab": {
          "base_uri": "https://localhost:8080/"
        },
        "id": "blXCBZWCAF21",
        "outputId": "16fcbbc7-d42f-4f95-8ec3-c2e9e5394f14"
      },
      "execution_count": 3,
      "outputs": [
        {
          "output_type": "stream",
          "name": "stdout",
          "text": [
            "Minimum Spanning Tree Edges:\n",
            "Edge: 1 - 2\n",
            "Edge: 1 - 3\n",
            "Edge: 3 - 4\n",
            "Edge: 0 - 2\n",
            "Edge: 4 - 5\n",
            "Total Weight: 14\n"
          ]
        }
      ]
    },
    {
      "cell_type": "markdown",
      "source": [
        "**Prims Algorithm**"
      ],
      "metadata": {
        "id": "OKYt6KDBAyz2"
      }
    },
    {
      "cell_type": "code",
      "source": [
        "import heapq\n",
        "\n",
        "def add_edge(graph, u, v, weight):\n",
        "    graph[u].append((v, weight))\n",
        "    graph[v].append((u, weight))\n",
        "\n",
        "def prim_mst(graph, n):\n",
        "    in_mst = [False] * n\n",
        "    pq = [(0, 0)]  # (weight, node)\n",
        "    total_weight = 0\n",
        "\n",
        "    while pq:\n",
        "        weight, u = heapq.heappop(pq)\n",
        "        if in_mst[u]:\n",
        "            continue\n",
        "        in_mst[u] = True\n",
        "        total_weight += weight\n",
        "\n",
        "        for v, w in graph[u]:\n",
        "            if not in_mst[v]:\n",
        "                heapq.heappush(pq, (w, v))\n",
        "    return total_weight\n",
        "\n",
        "def main():\n",
        "    n = 6\n",
        "    graph = [[] for _ in range(n)]\n",
        "\n",
        "    add_edge(graph, 0, 1, 4)\n",
        "    add_edge(graph, 0, 2, 3)\n",
        "    add_edge(graph, 1, 3, 2)\n",
        "    add_edge(graph, 1, 2, 1)\n",
        "    add_edge(graph, 2, 3, 4)\n",
        "    add_edge(graph, 3, 4, 2)\n",
        "    add_edge(graph, 4, 5, 6)\n",
        "\n",
        "    print(\"Minimum Spanning Tree Weight:\", prim_mst(graph, n))\n",
        "\n",
        "if __name__ == \"__main__\":\n",
        "    main()"
      ],
      "metadata": {
        "colab": {
          "base_uri": "https://localhost:8080/"
        },
        "id": "3rA4jjNgAqBr",
        "outputId": "8b3ee8dc-1601-447e-f59a-5516cf2f0b7c"
      },
      "execution_count": 4,
      "outputs": [
        {
          "output_type": "stream",
          "name": "stdout",
          "text": [
            "Minimum Spanning Tree Weight: 14\n"
          ]
        }
      ]
    }
  ]
}